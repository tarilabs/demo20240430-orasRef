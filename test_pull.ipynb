{
 "cells": [
  {
   "cell_type": "code",
   "execution_count": 6,
   "metadata": {},
   "outputs": [
    {
     "name": "stderr",
     "output_type": "stream",
     "text": [
      "WARNING:__main__:No ORAS_USER or ORAS_PASS defined, no auth.\n",
      "INFO:oras.logger:Successfully pulled /Users/mmortari/git/demo20240430-orasRef/tmp/mnist.onnx.\n"
     ]
    }
   ],
   "source": [
    "import os\n",
    "import logging\n",
    "import re\n",
    "from typing import List, Tuple\n",
    "from oras.provider import Registry\n",
    "\n",
    "logger = logging.getLogger(__name__)\n",
    "logging.basicConfig(level=20)\n",
    "\n",
    "def get_oras_client():\n",
    "    \"\"\"\n",
    "    Consistent method to get an oras client\n",
    "    \"\"\"\n",
    "    user = os.environ.get(\"ORAS_USER\")\n",
    "    password = os.environ.get(\"ORAS_PASS\")\n",
    "    reg = Registry()\n",
    "    if user and password:\n",
    "        print(\"Found username and password for basic auth\")\n",
    "        reg.set_basic_auth(user, password)\n",
    "    else:\n",
    "        logger.warning(\"No ORAS_USER or ORAS_PASS defined, no auth.\")\n",
    "    return reg\n",
    "\n",
    "\n",
    "def split_uri(uri: str) -> Tuple[str, str]:\n",
    "    if not uri.startswith(\"oci-artifact://\"):\n",
    "        raise ValueError(\"expected to start with 'oci-artifact://'\")\n",
    "    oras_target = re.sub(r'^oci-artifact://', '', uri)\n",
    "    if ':' not in oras_target:\n",
    "        raise ValueError(\"expected to contain at least a `:tag`\")\n",
    "    parts: List[str] = oras_target.split(':', 1)\n",
    "    return oras_target, parts[1]\n",
    "\n",
    "\n",
    "client = get_oras_client()\n",
    "kserve_uri = \"oci-artifact://quay.io/mmortari/demo20240606-orascsi-ociartifactrepo:latest\"\n",
    "oras_target, tag = split_uri(kserve_uri)\n",
    "res = client.pull(target=oras_target, outdir=\"./tmp/\")"
   ]
  }
 ],
 "metadata": {
  "kernelspec": {
   "display_name": "venv",
   "language": "python",
   "name": "python3"
  },
  "language_info": {
   "codemirror_mode": {
    "name": "ipython",
    "version": 3
   },
   "file_extension": ".py",
   "mimetype": "text/x-python",
   "name": "python",
   "nbconvert_exporter": "python",
   "pygments_lexer": "ipython3",
   "version": "3.11.6"
  }
 },
 "nbformat": 4,
 "nbformat_minor": 2
}
