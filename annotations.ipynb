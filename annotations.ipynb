{
 "cells": [
  {
   "cell_type": "code",
   "execution_count": 23,
   "metadata": {},
   "outputs": [],
   "source": [
    "import yaml\n",
    "import json\n",
    "\n",
    "def read_yaml_and_emit_dict(file_path):\n",
    "    with open(file_path, 'r') as stream:\n",
    "        yaml_documents = yaml.safe_load_all(stream)\n",
    "        yaml_documents = list(yaml_documents)\n",
    "        yaml_data = yaml_documents[0]\n",
    "        for doc in yaml_documents[1:]:\n",
    "            for k, v in doc.items():\n",
    "                if k not in [\"id\", \"name\", \"customProperties\", \"artifactType\", \"registeredModelId\"]:\n",
    "                    yaml_data[k] = v\n",
    "        return yaml_data\n",
    "\n",
    "def prefix_keys_and_transform_values(dictionary):\n",
    "    transformed_dict = {}\n",
    "    for key, value in dictionary.items():\n",
    "        if isinstance(value, str):\n",
    "            transformed_dict[f\"mr_str:{key}\"] = value\n",
    "        else:\n",
    "            transformed_dict[f\"mr_json:{key}\"] = json.dumps(value)\n",
    "    return transformed_dict\n",
    "\n",
    "\n",
    "file_path = \"example-modelregistry-metadata.yaml\"\n",
    "json_data = read_yaml_and_emit_dict(file_path)\n",
    "json_data = prefix_keys_and_transform_values(json_data)\n",
    "json_data = { \"$manifest\": json_data }\n",
    "\n",
    "with open(\"annotations.json\", 'w') as f:\n",
    "    f.write(json.dumps(json_data, indent=2))\n"
   ]
  }
 ],
 "metadata": {
  "kernelspec": {
   "display_name": "venv",
   "language": "python",
   "name": "python3"
  },
  "language_info": {
   "codemirror_mode": {
    "name": "ipython",
    "version": 3
   },
   "file_extension": ".py",
   "mimetype": "text/x-python",
   "name": "python",
   "nbconvert_exporter": "python",
   "pygments_lexer": "ipython3",
   "version": "3.11.6"
  }
 },
 "nbformat": 4,
 "nbformat_minor": 2
}
