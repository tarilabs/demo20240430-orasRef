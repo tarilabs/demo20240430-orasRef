{
 "cells": [
  {
   "cell_type": "code",
   "execution_count": 14,
   "metadata": {},
   "outputs": [],
   "source": [
    "import yaml\n",
    "import json\n",
    "\n",
    "def read_yaml_and_emit_dict(file_path):\n",
    "    with open(file_path, 'r') as stream:\n",
    "        yaml_documents = yaml.safe_load_all(stream)\n",
    "        yaml_documents = list(yaml_documents)\n",
    "        yaml_data = yaml_documents[0]\n",
    "        yaml_data[\"customProperties\"] = {} if yaml_data[\"customProperties\"] == None else destructureCustomProperty(yaml_data[\"customProperties\"])\n",
    "        for doc in yaml_documents[1:]:\n",
    "            for k, v in doc.items():\n",
    "                if k not in [\"id\", \"name\", \"customProperties\", \"artifactType\", \"registeredModelId\"]:\n",
    "                    yaml_data[k] = v\n",
    "                if k == \"customProperties\":\n",
    "                    yaml_data[k].update(destructureCustomProperty(v))\n",
    "        return yaml_data\n",
    "    \n",
    "def destructureCustomProperty(input: dict)-> dict:\n",
    "    result = {}\n",
    "    for k, v in input.items():\n",
    "        keys_ending_with_value = [key for key in v.keys() if key.endswith(\"_value\")]\n",
    "        assert len(keys_ending_with_value) == 1\n",
    "        result[k] = v[keys_ending_with_value[0]]\n",
    "    return result\n",
    "\n",
    "def prefix_keys_and_transform_values(dictionary):\n",
    "    transformed_dict = {}\n",
    "    for key, value in dictionary.items():\n",
    "        if isinstance(value, str):\n",
    "            transformed_dict[key] = value # a string value as-is\n",
    "        else:\n",
    "            transformed_dict[f\"{key}+json\"] = json.dumps(value) # post-fix \"+json\" for OCI annotation which is a str representing a json\n",
    "    return transformed_dict\n",
    "\n",
    "\n",
    "file_path = \"example-modelregistry-metadata.yaml\"\n",
    "json_data = read_yaml_and_emit_dict(file_path)\n",
    "json_data = prefix_keys_and_transform_values(json_data)\n",
    "json_data = { \"$manifest\": json_data }\n",
    "\n",
    "with open(\"annotations.json\", 'w') as f:\n",
    "    f.write(json.dumps(json_data, indent=2))\n"
   ]
  }
 ],
 "metadata": {
  "kernelspec": {
   "display_name": "venv",
   "language": "python",
   "name": "python3"
  },
  "language_info": {
   "codemirror_mode": {
    "name": "ipython",
    "version": 3
   },
   "file_extension": ".py",
   "mimetype": "text/x-python",
   "name": "python",
   "nbconvert_exporter": "python",
   "pygments_lexer": "ipython3",
   "version": "3.11.6"
  }
 },
 "nbformat": 4,
 "nbformat_minor": 2
}
