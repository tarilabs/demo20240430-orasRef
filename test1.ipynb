{
 "cells": [
  {
   "cell_type": "code",
   "execution_count": 3,
   "metadata": {},
   "outputs": [],
   "source": [
    "import oras.oci\n",
    "import oras.defaults\n",
    "import oras.provider\n",
    "from oras.decorator import ensure_container\n",
    "\n",
    "import logging\n",
    "\n",
    "logger = logging.getLogger(__name__)\n",
    "logging.basicConfig(level=20)\n",
    "\n",
    "import os\n",
    "import sys\n",
    "\n",
    "class Registry(oras.provider.Registry):\n",
    "    def __init__(self):\n",
    "        oras.provider.Registry.__init__(self, insecure=True)\n",
    "    \n",
    "    @ensure_container\n",
    "    def push(self, container, archives: dict, annotations=None):\n",
    "        \"\"\"\n",
    "        Given a dict of layers (paths and corresponding mediaType) push.\n",
    "        \"\"\"\n",
    "        # Prepare a new manifest\n",
    "        manifest = oras.oci.NewManifest()\n",
    "\n",
    "        # A lookup of annotations we can add\n",
    "        annotset = oras.oci.Annotations(annotations or {})\n",
    "\n",
    "        # Upload files as blobs\n",
    "        for blob, mediaType in archives.items():\n",
    "\n",
    "            # Must exist\n",
    "            if not os.path.exists(blob):\n",
    "                logger.exit(f\"{blob} does not exist.\")\n",
    "\n",
    "            # Save directory or blob name before compressing\n",
    "            blob_name = os.path.basename(blob)\n",
    "\n",
    "            # If it's a directory, we need to compress\n",
    "            cleanup_blob = False\n",
    "            if os.path.isdir(blob):\n",
    "                blob = oras.utils.make_targz(blob)\n",
    "                cleanup_blob = True\n",
    "\n",
    "            # Create a new layer from the blob\n",
    "            layer = oras.oci.NewLayer(blob, mediaType, is_dir=cleanup_blob)\n",
    "            annotations = annotset.get_annotations(blob)\n",
    "            layer[\"annotations\"] = {oras.defaults.annotation_title: blob_name}\n",
    "            if annotations:\n",
    "                layer[\"annotations\"].update(annotations)\n",
    "\n",
    "            # update the manifest with the new layer\n",
    "            manifest[\"layers\"].append(layer)\n",
    "\n",
    "            # Upload the blob layer\n",
    "            response = self.upload_blob(blob, container, layer)\n",
    "            self._check_200_response(response)\n",
    "\n",
    "            # Do we need to cleanup a temporary targz?\n",
    "            if cleanup_blob and os.path.exists(blob):\n",
    "                os.remove(blob)\n",
    "\n",
    "        # Add annotations to the manifest, if provided\n",
    "        manifest_annots = annotset.get_annotations(\"$manifest\")\n",
    "        if manifest_annots:\n",
    "            manifest[\"annotations\"] = manifest_annots\n",
    "\n",
    "        # Prepare the manifest config (temporary or one provided)\n",
    "        config_annots = annotset.get_annotations(\"$config\")\n",
    "        conf, config_file = oras.oci.ManifestConfig()\n",
    "\n",
    "        # Config annotations?\n",
    "        if config_annots:\n",
    "            conf[\"annotations\"] = config_annots\n",
    "\n",
    "        # Config is just another layer blob!\n",
    "        with (\n",
    "            oras.provider.temporary_empty_config()\n",
    "        ) as config_file:\n",
    "            layer = oras.oci.NewLayer(config_file, \"something\", is_dir=False)\n",
    "            response = self.upload_blob(\n",
    "                config_file, container, layer\n",
    "            )\n",
    "            self._check_200_response(response)\n",
    "\n",
    "        # Final upload of the manifest\n",
    "        manifest[\"config\"] = conf\n",
    "        self._check_200_response(self.upload_manifest(manifest, container))\n",
    "        print(f\"Successfully pushed {container}\")\n",
    "        return response\n"
   ]
  },
  {
   "cell_type": "code",
   "execution_count": 4,
   "metadata": {},
   "outputs": [
    {
     "name": "stdout",
     "output_type": "stream",
     "text": [
      "Successfully pushed localhost:8080/dinosaur/artifact:v1\n"
     ]
    },
    {
     "data": {
      "text/plain": [
       "<Response [201]>"
      ]
     },
     "execution_count": 4,
     "metadata": {},
     "output_type": "execute_result"
    }
   ],
   "source": [
    "archives = {\n",
    "    \"models/mymodel.onnx\": \"application/vnd.onnx\"\n",
    "}\n",
    "Registry().push(\"localhost:8080/dinosaur/artifact:v1\", archives)"
   ]
  }
 ],
 "metadata": {
  "kernelspec": {
   "display_name": "venv",
   "language": "python",
   "name": "python3"
  },
  "language_info": {
   "codemirror_mode": {
    "name": "ipython",
    "version": 3
   },
   "file_extension": ".py",
   "mimetype": "text/x-python",
   "name": "python",
   "nbconvert_exporter": "python",
   "pygments_lexer": "ipython3",
   "version": "3.11.6"
  }
 },
 "nbformat": 4,
 "nbformat_minor": 2
}
